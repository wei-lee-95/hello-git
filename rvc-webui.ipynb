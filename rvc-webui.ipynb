{
  "nbformat": 4,
  "nbformat_minor": 0,
  "metadata": {
    "colab": {
      "provenance": [],
      "include_colab_link": true
    },
    "kernelspec": {
      "name": "python3",
      "display_name": "Python 3"
    },
    "language_info": {
      "name": "python"
    },
    "accelerator": "GPU",
    "gpuClass": "standard"
  },
  "cells": [
    {
      "cell_type": "markdown",
      "metadata": {
        "id": "view-in-github",
        "colab_type": "text"
      },
      "source": [
        "<a href=\"https://colab.research.google.com/github/wei-lee-95/hello-git/blob/master/rvc-webui.ipynb\" target=\"_parent\"><img src=\"https://colab.research.google.com/assets/colab-badge.svg\" alt=\"Open In Colab\"/></a>"
      ]
    },
    {
      "cell_type": "code",
      "execution_count": 3,
      "metadata": {
        "id": "m2nf2vQJyipi",
        "outputId": "0464638b-8ad9-4264-85e6-262c29b46b47",
        "colab": {
          "base_uri": "https://localhost:8080/"
        }
      },
      "outputs": [
        {
          "output_type": "stream",
          "name": "stdout",
          "text": [
            "Mon Jun  2 09:54:05 2025       \n",
            "+-----------------------------------------------------------------------------------------+\n",
            "| NVIDIA-SMI 550.54.15              Driver Version: 550.54.15      CUDA Version: 12.4     |\n",
            "|-----------------------------------------+------------------------+----------------------+\n",
            "| GPU  Name                 Persistence-M | Bus-Id          Disp.A | Volatile Uncorr. ECC |\n",
            "| Fan  Temp   Perf          Pwr:Usage/Cap |           Memory-Usage | GPU-Util  Compute M. |\n",
            "|                                         |                        |               MIG M. |\n",
            "|=========================================+========================+======================|\n",
            "|   0  Tesla T4                       Off |   00000000:00:04.0 Off |                    0 |\n",
            "| N/A   53C    P8              9W /   70W |       0MiB /  15360MiB |      0%      Default |\n",
            "|                                         |                        |                  N/A |\n",
            "+-----------------------------------------+------------------------+----------------------+\n",
            "                                                                                         \n",
            "+-----------------------------------------------------------------------------------------+\n",
            "| Processes:                                                                              |\n",
            "|  GPU   GI   CI        PID   Type   Process name                              GPU Memory |\n",
            "|        ID   ID                                                               Usage      |\n",
            "|=========================================================================================|\n",
            "|  No running processes found                                                             |\n",
            "+-----------------------------------------------------------------------------------------+\n",
            "nvcc: NVIDIA (R) Cuda compiler driver\n",
            "Copyright (c) 2005-2024 NVIDIA Corporation\n",
            "Built on Thu_Jun__6_02:18:23_PDT_2024\n",
            "Cuda compilation tools, release 12.5, V12.5.82\n",
            "Build cuda_12.5.r12.5/compiler.34385749_0\n",
            "               total        used        free      shared  buff/cache   available\n",
            "Mem:            12Gi       1.0Gi       6.7Gi       1.0Mi       5.0Gi        11Gi\n",
            "Swap:             0B          0B          0B\n",
            "Mon Jun  2 09:54:05 2025       \n",
            "+-----------------------------------------------------------------------------------------+\n",
            "| NVIDIA-SMI 550.54.15              Driver Version: 550.54.15      CUDA Version: 12.4     |\n",
            "|-----------------------------------------+------------------------+----------------------+\n",
            "| GPU  Name                 Persistence-M | Bus-Id          Disp.A | Volatile Uncorr. ECC |\n",
            "| Fan  Temp   Perf          Pwr:Usage/Cap |           Memory-Usage | GPU-Util  Compute M. |\n",
            "|                                         |                        |               MIG M. |\n",
            "|=========================================+========================+======================|\n",
            "|   0  Tesla T4                       Off |   00000000:00:04.0 Off |                    0 |\n",
            "| N/A   53C    P8             10W /   70W |       0MiB /  15360MiB |      0%      Default |\n",
            "|                                         |                        |                  N/A |\n",
            "+-----------------------------------------+------------------------+----------------------+\n",
            "                                                                                         \n",
            "+-----------------------------------------------------------------------------------------+\n",
            "| Processes:                                                                              |\n",
            "|  GPU   GI   CI        PID   Type   Process name                              GPU Memory |\n",
            "|        ID   ID                                                               Usage      |\n",
            "|=========================================================================================|\n",
            "|  No running processes found                                                             |\n",
            "+-----------------------------------------------------------------------------------------+\n",
            "nvcc: NVIDIA (R) Cuda compiler driver\n",
            "Copyright (c) 2005-2024 NVIDIA Corporation\n",
            "Built on Thu_Jun__6_02:18:23_PDT_2024\n",
            "Cuda compilation tools, release 12.5, V12.5.82\n",
            "Build cuda_12.5.r12.5/compiler.34385749_0\n",
            "               total        used        free      shared  buff/cache   available\n",
            "Mem:            12Gi       1.0Gi       6.7Gi       1.0Mi       5.0Gi        11Gi\n",
            "Swap:             0B          0B          0B\n"
          ]
        }
      ],
      "source": [
        "! nvidia-smi\n",
        "! nvcc -V\n",
        "! free -h"
      ]
    },
    {
      "cell_type": "code",
      "source": [
        "import os\n",
        "\n",
        "# @markdown # Mount Google Drive\n",
        "data_path = \"/content/data\"\n",
        "mount_gdrive = True  # @param {type:\"boolean\"}\n",
        "gdrive_data_path = \"/content/drive/MyDrive/AI/rvc-webui\"  # @param {type:\"string\"}\n",
        "\n",
        "if mount_gdrive:\n",
        "    from google.colab import drive\n",
        "    drive.mount('/content/drive', force_remount=False)\n",
        "    os.makedirs(gdrive_data_path, exist_ok=True)\n",
        "    ! ln -s {data_path} {gdrive_data_path}\n",
        "else:\n",
        "    os.makedirs(data_path, exist_ok=True)"
      ],
      "metadata": {
        "cellView": "form",
        "id": "Okkn_b6mzVxR",
        "outputId": "ddb10e23-02b8-48b2-a27a-b7939072da6c",
        "colab": {
          "base_uri": "https://localhost:8080/"
        }
      },
      "execution_count": 4,
      "outputs": [
        {
          "output_type": "stream",
          "name": "stdout",
          "text": [
            "Mounted at /content/drive\n",
            "ln: failed to create symbolic link '/content/drive/MyDrive/AI/rvc-webui/data': File exists\n"
          ]
        }
      ]
    },
    {
      "cell_type": "code",
      "source": [
        "# @markdown # Clone repository\n",
        "\n",
        "%cd /content/\n",
        "repository_url = \"https://github.com/ddPn08/rvc-webui.git\"  # @param {type: \"string\"}\n",
        "webui_branch = \"main\"  # @param {type: \"string\"}\n",
        "\n",
        "! git clone {repository_url}\n",
        "%cd /content/rvc-webui"
      ],
      "metadata": {
        "cellView": "form",
        "id": "kouCZn0UzDgk",
        "outputId": "5bc11cec-d326-4d4d-88da-89b984c80337",
        "colab": {
          "base_uri": "https://localhost:8080/"
        }
      },
      "execution_count": 5,
      "outputs": [
        {
          "output_type": "stream",
          "name": "stdout",
          "text": [
            "/content\n",
            "Cloning into 'rvc-webui'...\n",
            "remote: Enumerating objects: 1135, done.\u001b[K\n",
            "remote: Counting objects: 100% (524/524), done.\u001b[K\n",
            "remote: Compressing objects: 100% (89/89), done.\u001b[K\n",
            "remote: Total 1135 (delta 467), reused 435 (delta 435), pack-reused 611 (from 1)\u001b[K\n",
            "Receiving objects: 100% (1135/1135), 406.49 KiB | 1.61 MiB/s, done.\n",
            "Resolving deltas: 100% (779/779), done.\n",
            "/content/rvc-webui\n"
          ]
        }
      ]
    },
    {
      "cell_type": "code",
      "source": [
        "# @markdown # Initialize environment\n",
        "import os\n",
        "\n",
        "conda_dir = \"/opt/conda\"  # @param{type:\"string\"}\n",
        "conda_bin = os.path.join(conda_dir, \"bin\", \"conda\")\n",
        "\n",
        "if not os.path.exists(conda_bin):\n",
        "    ! curl -O https://repo.anaconda.com/miniconda/Miniconda3-py310_23.5.0-3-Linux-x86_64.sh\n",
        "    ! chmod +x Miniconda3-py310_23.5.0-3-Linux-x86_64.sh\n",
        "    ! bash ./Miniconda3-py310_23.5.0-3-Linux-x86_64.sh -b -f -p {conda_dir}\n",
        "    ! rm Miniconda3-py310_23.5.0-3-Linux-x86_64.sh\n",
        "\n",
        "def run_script(s):\n",
        "    ! {s}\n",
        "\n",
        "def make_args(d):\n",
        "    arguments = \"\"\n",
        "    for k, v in d.items():\n",
        "        if type(v) == bool:\n",
        "            arguments += f\"--{k} \" if v else \"\"\n",
        "        elif type(v) == str and v:\n",
        "            arguments += f\"--{k} \\\"{v}\\\" \"\n",
        "        elif v:\n",
        "            arguments += f\"--{k}={v} \"\n",
        "    return arguments\n",
        "\n",
        "if os.path.exists(\"requirments.txt\"):\n",
        "    ! mv requirments.txt requirements.txt"
      ],
      "metadata": {
        "id": "quL_v17WzRiR",
        "cellView": "form",
        "outputId": "9833b070-d918-4462-fa2a-18ef6e728463",
        "colab": {
          "base_uri": "https://localhost:8080/"
        }
      },
      "execution_count": 1,
      "outputs": [
        {
          "output_type": "stream",
          "name": "stdout",
          "text": [
            "  % Total    % Received % Xferd  Average Speed   Time    Time     Time  Current\n",
            "                                 Dload  Upload   Total   Spent    Left  Speed\n",
            "100 91.3M  100 91.3M    0     0  96.0M      0 --:--:-- --:--:-- --:--:-- 95.9M\n",
            "PREFIX=/opt/conda\n",
            "Unpacking payload ...\n",
            "Traceback (most recent call last):\n",
            "  File \"entry_point.py\", line 69, in <module>\n",
            "Process ForkProcess-1:\n",
            "  File \"concurrent/futures/process.py\", line 562, in _chain_from_iterable_of_lists\n",
            "  File \"concurrent/futures/_base.py\", line 609, in result_iterator\n",
            "  File \"concurrent/futures/_base.py\", line 441, in result\n",
            "  File \"threading.py\", line 312, in wait\n",
            "KeyboardInterrupt\n",
            "[330] Traceback (most recent call last):\n",
            "  File \"<string>\", line 1, in <module>\n",
            "KeyboardInterrupt\n",
            "Traceback (most recent call last):\n",
            "  File \"multiprocessing/process.py\", line 315, in _bootstrap\n",
            "  File \"multiprocessing/process.py\", line 108, in run\n",
            "  File \"concurrent/futures/process.py\", line 240, in _process_worker\n",
            "  File \"multiprocessing/queues.py\", line 103, in get\n",
            "  File \"multiprocessing/connection.py\", line 221, in recv_bytes\n",
            "  File \"multiprocessing/connection.py\", line 419, in _recv_bytes\n",
            "  File \"multiprocessing/connection.py\", line 384, in _recv\n",
            "KeyboardInterrupt\n"
          ]
        }
      ]
    },
    {
      "cell_type": "code",
      "source": [
        "# @markdown # Launch webui\n",
        "run_script(f\"\"\"\n",
        "eval \"$({conda_bin} shell.bash hook)\"\n",
        "python launch.py --share --host 0.0.0.0 --port 41130\n",
        "\"\"\")"
      ],
      "metadata": {
        "id": "tN3j3Xaz2Nja"
      },
      "execution_count": null,
      "outputs": []
    }
  ]
}