{
  "nbformat": 4,
  "nbformat_minor": 0,
  "metadata": {
    "colab": {
      "provenance": [],
      "include_colab_link": true
    },
    "kernelspec": {
      "name": "python3",
      "display_name": "Python 3"
    },
    "language_info": {
      "name": "python"
    },
    "accelerator": "GPU",
    "gpuClass": "standard"
  },
  "cells": [
    {
      "cell_type": "markdown",
      "metadata": {
        "id": "view-in-github",
        "colab_type": "text"
      },
      "source": [
        "<a href=\"https://colab.research.google.com/github/wei-lee-95/hello-git/blob/master/rvc-webui.ipynb\" target=\"_parent\"><img src=\"https://colab.research.google.com/assets/colab-badge.svg\" alt=\"Open In Colab\"/></a>"
      ]
    },
    {
      "cell_type": "code",
      "execution_count": 1,
      "metadata": {
        "id": "m2nf2vQJyipi",
        "colab": {
          "base_uri": "https://localhost:8080/"
        },
        "outputId": "137f3816-72b1-45e4-ad25-5960fcfe2b20"
      },
      "outputs": [
        {
          "output_type": "stream",
          "name": "stdout",
          "text": [
            "Fri May 23 12:58:42 2025       \n",
            "+-----------------------------------------------------------------------------------------+\n",
            "| NVIDIA-SMI 550.54.15              Driver Version: 550.54.15      CUDA Version: 12.4     |\n",
            "|-----------------------------------------+------------------------+----------------------+\n",
            "| GPU  Name                 Persistence-M | Bus-Id          Disp.A | Volatile Uncorr. ECC |\n",
            "| Fan  Temp   Perf          Pwr:Usage/Cap |           Memory-Usage | GPU-Util  Compute M. |\n",
            "|                                         |                        |               MIG M. |\n",
            "|=========================================+========================+======================|\n",
            "|   0  Tesla T4                       Off |   00000000:00:04.0 Off |                    0 |\n",
            "| N/A   68C    P8             11W /   70W |       0MiB /  15360MiB |      0%      Default |\n",
            "|                                         |                        |                  N/A |\n",
            "+-----------------------------------------+------------------------+----------------------+\n",
            "                                                                                         \n",
            "+-----------------------------------------------------------------------------------------+\n",
            "| Processes:                                                                              |\n",
            "|  GPU   GI   CI        PID   Type   Process name                              GPU Memory |\n",
            "|        ID   ID                                                               Usage      |\n",
            "|=========================================================================================|\n",
            "|  No running processes found                                                             |\n",
            "+-----------------------------------------------------------------------------------------+\n",
            "nvcc: NVIDIA (R) Cuda compiler driver\n",
            "Copyright (c) 2005-2024 NVIDIA Corporation\n",
            "Built on Thu_Jun__6_02:18:23_PDT_2024\n",
            "Cuda compilation tools, release 12.5, V12.5.82\n",
            "Build cuda_12.5.r12.5/compiler.34385749_0\n",
            "               total        used        free      shared  buff/cache   available\n",
            "Mem:            12Gi       923Mi       7.7Gi       1.0Mi       4.0Gi        11Gi\n",
            "Swap:             0B          0B          0B\n"
          ]
        }
      ],
      "source": [
        "! nvidia-smi\n",
        "! nvcc -V\n",
        "! free -h"
      ]
    },
    {
      "cell_type": "code",
      "source": [
        "import os\n",
        "\n",
        "# @markdown # Mount Google Drive\n",
        "data_path = \"/content/data\"\n",
        "mount_gdrive = True  # @param {type:\"boolean\"}\n",
        "gdrive_data_path = \"/content/drive/MyDrive/AI/rvc-webui\"  # @param {type:\"string\"}\n",
        "\n",
        "if mount_gdrive:\n",
        "    from google.colab import drive\n",
        "    drive.mount('/content/drive', force_remount=False)\n",
        "    os.makedirs(gdrive_data_path, exist_ok=True)\n",
        "    ! ln -s {data_path} {gdrive_data_path}\n",
        "else:\n",
        "    os.makedirs(data_path, exist_ok=True)"
      ],
      "metadata": {
        "cellView": "form",
        "id": "Okkn_b6mzVxR",
        "colab": {
          "base_uri": "https://localhost:8080/"
        },
        "outputId": "0c7c2c57-6c6e-47d8-ef01-18dd936604ce"
      },
      "execution_count": 2,
      "outputs": [
        {
          "output_type": "stream",
          "name": "stdout",
          "text": [
            "Mounted at /content/drive\n"
          ]
        }
      ]
    },
    {
      "cell_type": "code",
      "source": [
        "# @markdown # Clone repository\n",
        "\n",
        "%cd /content/\n",
        "repository_url = \"https://github.com/ddPn08/rvc-webui.git\"  # @param {type: \"string\"}\n",
        "webui_branch = \"main\"  # @param {type: \"string\"}\n",
        "\n",
        "! git clone {repository_url}\n",
        "%cd /content/rvc-webui"
      ],
      "metadata": {
        "cellView": "form",
        "id": "kouCZn0UzDgk",
        "colab": {
          "base_uri": "https://localhost:8080/"
        },
        "outputId": "3039273a-9d13-4c0f-e51c-1c7262542a66"
      },
      "execution_count": 3,
      "outputs": [
        {
          "output_type": "stream",
          "name": "stdout",
          "text": [
            "/content\n",
            "Cloning into 'rvc-webui'...\n",
            "remote: Enumerating objects: 1135, done.\u001b[K\n",
            "remote: Counting objects: 100% (532/532), done.\u001b[K\n",
            "remote: Compressing objects: 100% (92/92), done.\u001b[K\n",
            "remote: Total 1135 (delta 472), reused 440 (delta 440), pack-reused 603 (from 1)\u001b[K\n",
            "Receiving objects: 100% (1135/1135), 406.48 KiB | 9.03 MiB/s, done.\n",
            "Resolving deltas: 100% (779/779), done.\n",
            "/content/rvc-webui\n"
          ]
        }
      ]
    },
    {
      "cell_type": "code",
      "source": [
        "# @markdown # Initialize environment\n",
        "import os\n",
        "\n",
        "conda_dir = \"/opt/conda\"  # @param{type:\"string\"}\n",
        "conda_bin = os.path.join(conda_dir, \"bin\", \"conda\")\n",
        "\n",
        "if not os.path.exists(conda_bin):\n",
        "    ! curl -O https://repo.anaconda.com/miniconda/Miniconda3-py310_23.5.0-3-Linux-x86_64.sh\n",
        "    ! chmod +x Miniconda3-py310_23.5.0-3-Linux-x86_64.sh\n",
        "    ! bash ./Miniconda3-py310_23.5.0-3-Linux-x86_64.sh -b -f -p {conda_dir}\n",
        "    ! rm Miniconda3-py310_23.5.0-3-Linux-x86_64.sh\n",
        "\n",
        "def run_script(s):\n",
        "    ! {s}\n",
        "\n",
        "def make_args(d):\n",
        "    arguments = \"\"\n",
        "    for k, v in d.items():\n",
        "        if type(v) == bool:\n",
        "            arguments += f\"--{k} \" if v else \"\"\n",
        "        elif type(v) == str and v:\n",
        "            arguments += f\"--{k} \\\"{v}\\\" \"\n",
        "        elif v:\n",
        "            arguments += f\"--{k}={v} \"\n",
        "    return arguments\n",
        "\n",
        "if os.path.exists(\"requirments.txt\"):\n",
        "    ! mv requirments.txt requirements.txt"
      ],
      "metadata": {
        "id": "quL_v17WzRiR",
        "cellView": "form",
        "colab": {
          "base_uri": "https://localhost:8080/"
        },
        "outputId": "cead4e79-aa27-4098-cb04-af78ee0061ad"
      },
      "execution_count": 4,
      "outputs": [
        {
          "output_type": "stream",
          "name": "stdout",
          "text": [
            "  % Total    % Received % Xferd  Average Speed   Time    Time     Time  Current\n",
            "                                 Dload  Upload   Total   Spent    Left  Speed\n",
            "100 91.3M  100 91.3M    0     0   212M      0 --:--:-- --:--:-- --:--:--  212M\n",
            "PREFIX=/opt/conda\n",
            "Unpacking payload ...\n",
            "                                                                                 \n",
            "Installing base environment...\n",
            "\n",
            "\n",
            "Downloading and Extracting Packages\n",
            "\n",
            "\n",
            "Downloading and Extracting Packages\n",
            "\n",
            "Preparing transaction: - \b\b\\ \b\b| \b\b/ \b\bdone\n",
            "Executing transaction: \\ \b\b| \b\b/ \b\b- \b\b\\ \b\b| \b\b/ \b\b- \b\b\\ \b\b| \b\b/ \b\b- \b\b\\ \b\b| \b\b/ \b\b- \b\b\\ \b\b| \b\b/ \b\b- \b\bdone\n",
            "installation finished.\n",
            "WARNING:\n",
            "    You currently have a PYTHONPATH environment variable set. This may cause\n",
            "    unexpected behavior when running the Python interpreter in Miniconda3.\n",
            "    For best results, please verify that your PYTHONPATH only points to\n",
            "    directories of packages that are compatible with the Python interpreter\n",
            "    in Miniconda3: /opt/conda\n"
          ]
        }
      ]
    },
    {
      "cell_type": "code",
      "source": [
        "# @markdown # Launch webui\n",
        "run_script(f\"\"\"\n",
        "eval \"$({conda_bin} shell.bash hook)\"\n",
        "python launch.py --share --host 0.0.0.0 --port 41130\n",
        "\"\"\")"
      ],
      "metadata": {
        "cellView": "form",
        "id": "tN3j3Xaz2Nja",
        "colab": {
          "base_uri": "https://localhost:8080/"
        },
        "outputId": "217cb8b8-6c32-4446-97c5-e111f93c07cd"
      },
      "execution_count": 25,
      "outputs": [
        {
          "output_type": "stream",
          "name": "stdout",
          "text": [
            "Python 3.10.12 (main, Jul  5 2023, 18:54:27) [GCC 11.2.0]\n",
            "Commit hash: b71742809a24cd89eb18081b831c0b1ac11ccb2a\n",
            "Installing requirements\n",
            "/opt/conda/lib/python3.10/site-packages/gradio_client/documentation.py:106: UserWarning: Could not get documentation group for <class 'gradio.mix.Parallel'>: No known documentation group for module 'gradio.mix'\n",
            "  warnings.warn(f\"Could not get documentation group for {cls}: {exc}\")\n",
            "/opt/conda/lib/python3.10/site-packages/gradio_client/documentation.py:106: UserWarning: Could not get documentation group for <class 'gradio.mix.Series'>: No known documentation group for module 'gradio.mix'\n",
            "  warnings.warn(f\"Could not get documentation group for {cls}: {exc}\")\n",
            "2025-05-23 14:31:13 | INFO | faiss.loader | Loading faiss with AVX2 support.\n",
            "2025-05-23 14:31:13 | INFO | faiss.loader | Successfully loaded faiss with AVX2 support.\n",
            "/opt/conda/lib/python3.10/site-packages/torch/nn/utils/weight_norm.py:143: FutureWarning: `torch.nn.utils.weight_norm` is deprecated in favor of `torch.nn.utils.parametrizations.weight_norm`.\n",
            "  WeightNorm.apply(module, name, dim)\n",
            "gin_channels: 256 self.spk_embed_dim: 109 emb_channels: 768\n",
            "/content/rvc-webui/modules/tabs/training.py:381: GradioUnusedKwargWarning: You have unused kwarg parameters in Checkbox, please remove them: {'disabled': False}\n",
            "  fp16 = gr.Checkbox(\n",
            "/content/rvc-webui/modules/tabs/server.py:16: GradioDeprecationWarning: The `style` method is deprecated. Please set these arguments in the constructor instead.\n",
            "  with gr.Row().style(equal_height=False):\n",
            "/content/rvc-webui/modules/tabs/server.py:20: GradioDeprecationWarning: The `style` method is deprecated. Please set these arguments in the constructor instead.\n",
            "  with gr.Row().style(equal_height=False):\n",
            "/content/rvc-webui/modules/tabs/server.py:24: GradioDeprecationWarning: The `style` method is deprecated. Please set these arguments in the constructor instead.\n",
            "  with gr.Row().style(equal_height=False):\n",
            "/content/rvc-webui/modules/tabs/server.py:116: GradioDeprecationWarning: The `style` method is deprecated. Please set these arguments in the constructor instead.\n",
            "  with gr.Row().style(equal_height=False):\n",
            "Running on local URL:  http://0.0.0.0:41130\n",
            "Running on public URL: https://ae0c095972e655e62e.gradio.live\n",
            "\n",
            "This share link expires in 72 hours. For free permanent hosting and GPU upgrades, run `gradio deploy` from Terminal to deploy to Spaces (https://huggingface.co/spaces)\n",
            "2025-05-23 14:31:42 | INFO | httpx | HTTP Request: POST http://localhost:41130/api/predict \"HTTP/1.1 200 OK\"\n",
            "load contentvec embedder\n",
            "2025-05-23 14:31:42 | INFO | httpx | HTTP Request: POST http://localhost:41130/api/predict \"HTTP/1.1 200 OK\"\n",
            "2025-05-23 14:31:43 | INFO | httpx | HTTP Request: POST http://localhost:41130/api/predict \"HTTP/1.1 200 OK\"\n",
            "2025-05-23 14:31:43 | INFO | httpx | HTTP Request: POST http://localhost:41130/reset \"HTTP/1.1 200 OK\"\n",
            "Keyboard interruption in main thread... closing server.\n",
            "Traceback (most recent call last):\n",
            "  File \"/opt/conda/lib/python3.10/subprocess.py\", line 1209, in wait\n",
            "    return self._wait(timeout=timeout)\n",
            "  File \"/opt/conda/lib/python3.10/subprocess.py\", line 1959, in _wait\n",
            "    (pid, sts) = self._try_wait(0)\n",
            "  File \"/opt/conda/lib/python3.10/subprocess.py\", line 1917, in _try_wait\n",
            "    (pid, sts) = os.waitpid(self.pid, wait_flags)\n",
            "KeyboardInterrupt\n",
            "\n",
            "During handling of the above exception, another exception occurred:\n",
            "\n",
            "Traceback (most recent call last):\n",
            "  File \"/content/rvc-webui/launch.py\", line 139, in <module>\n",
            "    start()\n",
            "  File \"/content/rvc-webui/launch.py\", line 132, in start\n",
            "    subprocess.run(\n",
            "  File \"/opt/conda/lib/python3.10/subprocess.py\", line 505, in run\n",
            "    stdout, stderr = process.communicate(input, timeout=timeout)\n",
            "  File \"/opt/conda/lib/python3.10/subprocess.py\", line 1146, in communicate\n",
            "    self.wait()\n",
            "  File \"/opt/conda/lib/python3.10/subprocess.py\", line 1222, in wait\n",
            "    self._wait(timeout=sigint_timeout)\n",
            "  File \"/opt/conda/lib/python3.10/subprocess.py\", line 1953, in _wait\n",
            "    time.sleep(delay)\n",
            "KeyboardInterrupt\n",
            "^C\n"
          ]
        }
      ]
    }
  ]
}