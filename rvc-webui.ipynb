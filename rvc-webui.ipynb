{
  "nbformat": 4,
  "nbformat_minor": 0,
  "metadata": {
    "colab": {
      "provenance": [],
      "include_colab_link": true
    },
    "kernelspec": {
      "name": "python3",
      "display_name": "Python 3"
    },
    "language_info": {
      "name": "python"
    },
    "accelerator": "GPU",
    "gpuClass": "standard"
  },
  "cells": [
    {
      "cell_type": "markdown",
      "metadata": {
        "id": "view-in-github",
        "colab_type": "text"
      },
      "source": [
        "<a href=\"https://colab.research.google.com/github/wei-lee-95/hello-git/blob/master/rvc-webui.ipynb\" target=\"_parent\"><img src=\"https://colab.research.google.com/assets/colab-badge.svg\" alt=\"Open In Colab\"/></a>"
      ]
    },
    {
      "cell_type": "code",
      "execution_count": 1,
      "metadata": {
        "id": "m2nf2vQJyipi",
        "outputId": "d1b193d5-9d06-4f7e-e9b4-90818658d27e",
        "colab": {
          "base_uri": "https://localhost:8080/"
        }
      },
      "outputs": [
        {
          "output_type": "stream",
          "name": "stdout",
          "text": [
            "/bin/bash: line 1: nvidia-smi: command not found\n",
            "nvcc: NVIDIA (R) Cuda compiler driver\n",
            "Copyright (c) 2005-2024 NVIDIA Corporation\n",
            "Built on Thu_Jun__6_02:18:23_PDT_2024\n",
            "Cuda compilation tools, release 12.5, V12.5.82\n",
            "Build cuda_12.5.r12.5/compiler.34385749_0\n",
            "               total        used        free      shared  buff/cache   available\n",
            "Mem:            12Gi       575Mi       8.2Gi       1.0Mi       3.9Gi        11Gi\n",
            "Swap:             0B          0B          0B\n"
          ]
        }
      ],
      "source": [
        "! nvidia-smi\n",
        "! nvcc -V\n",
        "! free -h"
      ]
    },
    {
      "cell_type": "code",
      "source": [
        "import os\n",
        "\n",
        "# @markdown # Mount Google Drive\n",
        "data_path = \"/content/data\"\n",
        "mount_gdrive = True  # @param {type:\"boolean\"}\n",
        "gdrive_data_path = \"/content/drive/MyDrive/AI/rvc-webui\"  # @param {type:\"string\"}\n",
        "\n",
        "if mount_gdrive:\n",
        "    from google.colab import drive\n",
        "    drive.mount('/content/drive', force_remount=False)\n",
        "    os.makedirs(gdrive_data_path, exist_ok=True)\n",
        "    ! ln -s {data_path} {gdrive_data_path}\n",
        "else:\n",
        "    os.makedirs(data_path, exist_ok=True)"
      ],
      "metadata": {
        "cellView": "form",
        "id": "Okkn_b6mzVxR",
        "outputId": "02a4febd-9384-4d77-ed77-13d99f538a2e",
        "colab": {
          "base_uri": "https://localhost:8080/"
        }
      },
      "execution_count": 2,
      "outputs": [
        {
          "output_type": "stream",
          "name": "stdout",
          "text": [
            "Mounted at /content/drive\n",
            "ln: failed to create symbolic link '/content/drive/MyDrive/AI/rvc-webui/data': File exists\n"
          ]
        }
      ]
    },
    {
      "cell_type": "code",
      "source": [
        "# @markdown # Clone repository\n",
        "\n",
        "%cd /content/\n",
        "repository_url = \"https://github.com/ddPn08/rvc-webui.git\"  # @param {type: \"string\"}\n",
        "webui_branch = \"main\"  # @param {type: \"string\"}\n",
        "\n",
        "! git clone {repository_url}\n",
        "%cd /content/rvc-webui"
      ],
      "metadata": {
        "cellView": "form",
        "id": "kouCZn0UzDgk",
        "outputId": "c758f2e8-6013-4c52-e136-09aef0abe586",
        "colab": {
          "base_uri": "https://localhost:8080/"
        }
      },
      "execution_count": 3,
      "outputs": [
        {
          "output_type": "stream",
          "name": "stdout",
          "text": [
            "/content\n",
            "Cloning into 'rvc-webui'...\n",
            "remote: Enumerating objects: 1135, done.\u001b[K\n",
            "remote: Counting objects: 100% (493/493), done.\u001b[K\n",
            "remote: Compressing objects: 100% (88/88), done.\u001b[K\n",
            "remote: Total 1135 (delta 435), reused 405 (delta 405), pack-reused 642 (from 1)\u001b[K\n",
            "Receiving objects: 100% (1135/1135), 406.14 KiB | 5.64 MiB/s, done.\n",
            "Resolving deltas: 100% (778/778), done.\n",
            "/content/rvc-webui\n"
          ]
        }
      ]
    },
    {
      "cell_type": "code",
      "source": [
        "# @markdown # Initialize environment\n",
        "import os\n",
        "\n",
        "conda_dir = \"/opt/conda\"  # @param{type:\"string\"}\n",
        "conda_bin = os.path.join(conda_dir, \"bin\", \"conda\")\n",
        "\n",
        "if not os.path.exists(conda_bin):\n",
        "    ! curl -O https://repo.anaconda.com/miniconda/Miniconda3-py310_23.5.0-3-Linux-x86_64.sh\n",
        "    ! chmod +x Miniconda3-py310_23.5.0-3-Linux-x86_64.sh\n",
        "    ! bash ./Miniconda3-py310_23.5.0-3-Linux-x86_64.sh -b -f -p {conda_dir}\n",
        "    ! rm Miniconda3-py310_23.5.0-3-Linux-x86_64.sh\n",
        "\n",
        "def run_script(s):\n",
        "    ! {s}\n",
        "\n",
        "def make_args(d):\n",
        "    arguments = \"\"\n",
        "    for k, v in d.items():\n",
        "        if type(v) == bool:\n",
        "            arguments += f\"--{k} \" if v else \"\"\n",
        "        elif type(v) == str and v:\n",
        "            arguments += f\"--{k} \\\"{v}\\\" \"\n",
        "        elif v:\n",
        "            arguments += f\"--{k}={v} \"\n",
        "    return arguments\n",
        "\n",
        "if os.path.exists(\"requirments.txt\"):\n",
        "    ! mv requirments.txt requirements.txt"
      ],
      "metadata": {
        "id": "quL_v17WzRiR",
        "cellView": "form",
        "outputId": "06398fb1-d91d-4365-b6d3-3bbcc7c6980d",
        "colab": {
          "base_uri": "https://localhost:8080/"
        }
      },
      "execution_count": 4,
      "outputs": [
        {
          "output_type": "stream",
          "name": "stdout",
          "text": [
            "  % Total    % Received % Xferd  Average Speed   Time    Time     Time  Current\n",
            "                                 Dload  Upload   Total   Spent    Left  Speed\n",
            "100 91.3M  100 91.3M    0     0   203M      0 --:--:-- --:--:-- --:--:--  203M\n",
            "PREFIX=/opt/conda\n",
            "Unpacking payload ...\n",
            "                                                                              \n",
            "Installing base environment...\n",
            "\n",
            "\n",
            "Downloading and Extracting Packages\n",
            "\n",
            "\n",
            "Downloading and Extracting Packages\n",
            "\n",
            "Preparing transaction: - \b\b\\ \b\b| \b\b/ \b\b- \b\bdone\n",
            "Executing transaction: | \b\b/ \b\b- \b\b\\ \b\b| \b\b/ \b\b- \b\b\\ \b\b| \b\b/ \b\b- \b\b\\ \b\b| \b\b/ \b\b- \b\b\\ \b\b| \b\b/ \b\b- \b\b\\ \b\b| \b\b/ \b\b- \b\b\\ \b\b| \b\b/ \b\b- \b\b\\ \b\b| \b\b/ \b\b- \b\b\\ \b\b| \b\b/ \b\bdone\n",
            "installation finished.\n",
            "WARNING:\n",
            "    You currently have a PYTHONPATH environment variable set. This may cause\n",
            "    unexpected behavior when running the Python interpreter in Miniconda3.\n",
            "    For best results, please verify that your PYTHONPATH only points to\n",
            "    directories of packages that are compatible with the Python interpreter\n",
            "    in Miniconda3: /opt/conda\n"
          ]
        }
      ]
    },
    {
      "cell_type": "code",
      "source": [
        "# @markdown # Launch webui\n",
        "run_script(f\"\"\"\n",
        "eval \"$({conda_bin} shell.bash hook)\"\n",
        "python launch.py --share --host 0.0.0.0 --port 41130\n",
        "\"\"\")"
      ],
      "metadata": {
        "cellView": "form",
        "id": "tN3j3Xaz2Nja"
      },
      "execution_count": null,
      "outputs": []
    }
  ]
}